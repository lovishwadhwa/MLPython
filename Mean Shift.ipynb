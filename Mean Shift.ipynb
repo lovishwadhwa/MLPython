{
 "cells": [
  {
   "cell_type": "code",
   "execution_count": 8,
   "metadata": {},
   "outputs": [
    {
     "name": "stdout",
     "output_type": "stream",
     "text": [
      "   pclass  survived  sex      age  sibsp  parch  ticket      fare  cabin  \\\n",
      "0       1         1    1  29.0000      0      0     780  211.3375     20   \n",
      "1       1         1    0   0.9167      1      2     519  151.5500     76   \n",
      "2       1         0    1   2.0000      1      2     519  151.5500     76   \n",
      "3       1         0    0  30.0000      1      2     519  151.5500     76   \n",
      "4       1         0    1  25.0000      1      2     519  151.5500     76   \n",
      "\n",
      "   embarked  boat  home.dest  \n",
      "0         2     2         27  \n",
      "1         2    19        330  \n",
      "2         2     0        330  \n",
      "3         2     0        330  \n",
      "4         2     0        330  \n"
     ]
    }
   ],
   "source": [
    "import matplotlib.pyplot as plt\n",
    "import numpy as np\n",
    "from sklearn.cluster import MeanShift\n",
    "import pandas as pd\n",
    "from sklearn import preprocessing\n",
    "\n",
    "df= pd.read_excel('titanic.xls')\n",
    "orignal_df= pd.DataFrame.copy(df)\n",
    "df.drop(['body', 'name'], 1, inplace= True)\n",
    "#for column in df.columns:\n",
    "#    pd.to_numeric(df[column])\n",
    "#print(df.head())\n",
    "\n",
    "def handle_non_numeric_data(df):\n",
    "    columns= df.columns.values\n",
    "    \n",
    "    for column in columns:\n",
    "        text_digit_vals={}\n",
    "        def convert_to_int(val):\n",
    "            return text_digit_vals[val]\n",
    "        \n",
    "        if df[column].dtype != np.int64 and df[column].dtype != np.float64:\n",
    "            column_content=df[column].values.tolist()\n",
    "            #print(column_content)\n",
    "            unique_elements= set(column_content)\n",
    "            #print(unique_elements)\n",
    "            x=0\n",
    "            for unique in unique_elements:\n",
    "                if unique not in text_digit_vals:\n",
    "                    text_digit_vals[unique] = x\n",
    "                    #print(unique)\n",
    "                    x+=1\n",
    "            df[column] = list(map(convert_to_int, df[column]))\n",
    "    return df\n",
    "\n",
    "df= handle_non_numeric_data(df)\n",
    "df.dropna(inplace=True)\n",
    "print(df.head())"
   ]
  },
  {
   "cell_type": "code",
   "execution_count": 9,
   "metadata": {},
   "outputs": [
    {
     "name": "stdout",
     "output_type": "stream",
     "text": [
      "0.5789473684210527\n"
     ]
    }
   ],
   "source": [
    "#df.drop(['home.dest', 'embarked'], 1, inplace=True)\n",
    "X= np.array(df.drop(['survived'], 1).astype(float))\n",
    "X= preprocessing.scale(X)#preprocessing(X)\n",
    "Y= np.array(df['survived'])\n",
    "\n",
    "clf= MeanShift()\n",
    "clf.fit(X)\n",
    "\n"
   ]
  },
  {
   "cell_type": "code",
   "execution_count": 19,
   "metadata": {},
   "outputs": [
    {
     "name": "stderr",
     "output_type": "stream",
     "text": [
      "c:\\users\\lovish bml\\appdata\\local\\programs\\python\\python36\\lib\\site-packages\\pandas\\core\\indexing.py:189: SettingWithCopyWarning: \n",
      "A value is trying to be set on a copy of a slice from a DataFrame\n",
      "\n",
      "See the caveats in the documentation: http://pandas.pydata.org/pandas-docs/stable/indexing.html#indexing-view-versus-copy\n",
      "  self._setitem_with_indexer(indexer, value)\n"
     ]
    },
    {
     "name": "stdout",
     "output_type": "stream",
     "text": [
      "{0: 0.42233502538071066, 1: 0.5625, 2: 0.5714285714285714, 3: 0.3333333333333333}\n"
     ]
    },
    {
     "name": "stderr",
     "output_type": "stream",
     "text": [
      "c:\\users\\lovish bml\\appdata\\local\\programs\\python\\python36\\lib\\site-packages\\ipykernel_launcher.py:15: UserWarning: Boolean Series key will be reindexed to match DataFrame index.\n",
      "  from ipykernel import kernelapp as app\n"
     ]
    }
   ],
   "source": [
    "labels = clf.labels_\n",
    "\n",
    "cluster_centres= clf.cluster_centers_\n",
    "\n",
    "orignal_df['cluster_group']= np.nan\n",
    "\n",
    "for i in range(len(X)):\n",
    "    orignal_df['cluster_group'].iloc[i]= labels[i]\n",
    "    \n",
    "n_clusters_= len(np.unique(labels))\n",
    "\n",
    "survival_rates = {}\n",
    "for i in range(n_clusters):\n",
    "    temp_df= orignal_df[ (orignal_df['cluster_group']==float(i))]\n",
    "    survival_cluster= temp_df[(orignal_df['survived']==1)]\n",
    "    survival_rate= len(survival_cluster)/len(temp_df)\n",
    "    survival_rates[i]= survival_rate\n",
    "    \n",
    "print(survival_rates)"
   ]
  },
  {
   "cell_type": "code",
   "execution_count": 21,
   "metadata": {},
   "outputs": [
    {
     "name": "stdout",
     "output_type": "stream",
     "text": [
      "           pclass    survived         age       sibsp       parch        fare  \\\n",
      "count  985.000000  985.000000  825.000000  985.000000  985.000000  985.000000   \n",
      "mean     2.145178    0.422335   31.084444    0.437563    0.363452   36.526958   \n",
      "std      0.841166    0.494182   14.310006    0.799142    0.792421   55.116312   \n",
      "min      1.000000    0.000000    0.166700    0.000000    0.000000    0.000000   \n",
      "25%      1.000000    0.000000   22.000000    0.000000    0.000000    8.050000   \n",
      "50%      2.000000    0.000000   29.000000    0.000000    0.000000   16.000000   \n",
      "75%      3.000000    1.000000   40.000000    1.000000    0.000000   36.750000   \n",
      "max      3.000000    1.000000   80.000000    5.000000    6.000000  512.329200   \n",
      "\n",
      "             body  cluster_group  \n",
      "count   90.000000          985.0  \n",
      "mean   155.211111            0.0  \n",
      "std     93.202509            0.0  \n",
      "min      9.000000            0.0  \n",
      "25%     70.500000            0.0  \n",
      "50%    148.500000            0.0  \n",
      "75%    242.750000            0.0  \n",
      "max    322.000000            0.0  \n"
     ]
    }
   ],
   "source": [
    "print(orignal_df[(orignal_df['cluster_group']==0)].describe())"
   ]
  },
  {
   "cell_type": "code",
   "execution_count": 37,
   "metadata": {},
   "outputs": [
    {
     "name": "stdout",
     "output_type": "stream",
     "text": [
      "3\n",
      "1.1666666666666667\n"
     ]
    },
    {
     "data": {
      "image/png": "[encoded data removed]",
      "text/plain": [
       "<Figure size 432x288 with 1 Axes>"
      ]
     },
     "metadata": {},
     "output_type": "display_data"
    }
   ],
   "source": [
    "#From Scratch\n",
    "X = np.array([[1, 2], [1.5, 1.8], [5, 8], [8, 8], [1, 0.6], [9, 11]])\n",
    "\n",
    "\n",
    "\n",
    "colors=['r', 'g', 'c', 'b' ]\n",
    "\n",
    "class Mean_Shift():\n",
    "    def __init__(self, radius=4):\n",
    "        self.radius= radius\n",
    "    def fit(self, data):\n",
    "        centroids={}\n",
    "        \n",
    "        \n",
    "        for i in range(len(data)):\n",
    "            centroids[i]= data[i]\n",
    "        count  =0\n",
    "        while True:\n",
    "            count+=1\n",
    "            new_centroids = []\n",
    "            \n",
    "            for i in centroids:\n",
    "                in_bandwidth= []\n",
    "                centroid= centroids[i]\n",
    "                \n",
    "                for featureset in data:\n",
    "                    if np.linalg.norm(featureset-centroid) < self.radius:\n",
    "                        in_bandwidth.append(featureset)\n",
    "                new_centroid= np.average(in_bandwidth, axis=0)\n",
    "                new_centroids.append(tuple(new_centroid))\n",
    "            \n",
    "            uniques= sorted(list(set(new_centroids)))\n",
    "            \n",
    "            prev_centroids= dict(centroids)\n",
    "            \n",
    "            centroids= {}\n",
    "            \n",
    "            for i in range(len(uniques)):\n",
    "                centroids[i]= np.array(uniques[i])\n",
    "            \n",
    "            optimized= True\n",
    "            \n",
    "            for i in centroids:\n",
    "                if not np.array_equal(centroids[i], prev_centroids[i]):\n",
    "                    optimized= False\n",
    "                if not optimized:\n",
    "                    break\n",
    "            if optimized:\n",
    "                break\n",
    "        print(count)\n",
    "        self.centroids= centroids\n",
    "        \n",
    "    def predic(self, data):\n",
    "        pass\n",
    "    \n",
    "clf= Mean_Shift()\n",
    "\n",
    "clf.fit(X)\n",
    "\n",
    "centroids= clf.centroids\n",
    "plt.scatter(X[:, 0], X[:, 1], s= 100)\n",
    "print(centroids[0][0])\n",
    "for c in centroids:\n",
    "    plt.scatter(centroids[c][0], centroids[c][1], color= 'k', s=150)\n",
    "plt.show()\n",
    "\n",
    "\n"
   ]
  },
  {
   "cell_type": "code",
   "execution_count": 84,
   "metadata": {},
   "outputs": [
    {
     "name": "stdout",
     "output_type": "stream",
     "text": [
      "6\n",
      "1\n",
      "-2.0307054966292384\n"
     ]
    },
    {
     "data": {
      "image/png": "[encoded data removed]",
      "text/plain": [
       "<Figure size 432x288 with 1 Axes>"
      ]
     },
     "metadata": {},
     "output_type": "display_data"
    }
   ],
   "source": [
    "X = np.array([[1, 2], [1.5, 1.8], [5, 8], [8, 8], [1, 0.6], [9, 11]])\n",
    "\n",
    "from sklearn.datasets.samples_generator import make_blobs\n",
    "\n",
    "X, y= make_blobs(n_samples= 20, centers=3, n_features=2)\n",
    "\n",
    "colors=10*['r', 'g', 'c', 'b', 'k', 'w', 'b']\n",
    "\n",
    "class Mean_Shift():\n",
    "    def __init__(self, radius=None, radius_norm_step= 50, ):\n",
    "        self.radius= radius\n",
    "        self.radius_norm_step= radius_norm_step\n",
    "    \n",
    "    def fit(self, data):\n",
    "        centroids={}\n",
    "        if self.radius == None:\n",
    "            all_data_centroid= np.average(data, axis= 0)\n",
    "            all_data_norm= np.linalg.norm(all_data_centroid)\n",
    "            self.radius= all_data_norm/ self.radius_norm_step\n",
    "        \n",
    "        \n",
    "        for i in range(len(data)):\n",
    "            centroids[i]= data[i]\n",
    "        count  =0\n",
    "        \n",
    "        weights=[i for i in range(self.radius_norm_step)][::-1]\n",
    "        \n",
    "        while True:\n",
    "            count+=1\n",
    "            new_centroids = []\n",
    "            \n",
    "            for i in centroids:\n",
    "                in_bandwidth= []\n",
    "                centroid= centroids[i]\n",
    "                \n",
    "                for featureset in data:\n",
    "                    distance= np.linalg.norm(featureset-centroid)\n",
    "                    if distance == 0:\n",
    "                        distance= 0.0000001\n",
    "                    weight_index= int(distance/self.radius)\n",
    "                    if weight_index > self.radius_norm_step-1:\n",
    "                        weight_index= self.radius_norm_step -1\n",
    "                    to_add= (weights[weight_index])*[featureset]\n",
    "                    in_bandwidth+= to_add\n",
    "                new_centroid= np.average(in_bandwidth, axis=0)\n",
    "                new_centroids.append(tuple(new_centroid))\n",
    "            \n",
    "            uniques= sorted(list(set(new_centroids)))\n",
    "            \n",
    "            to_pop=[]\n",
    "            \n",
    "            for i in uniques:\n",
    "                for ii in uniques:\n",
    "                    if i == ii:\n",
    "                        pass\n",
    "                    elif np.linalg.norm(np.array(i)- np.array(ii)) <= self.radius:\n",
    "                        to_pop.append(ii)\n",
    "                        break\n",
    "            for i in to_pop:\n",
    "                try:\n",
    "                    uniques.remove(i)\n",
    "                except:\n",
    "                    pass\n",
    "            \n",
    "            prev_centroids= dict(centroids)\n",
    "            \n",
    "            centroids= {}\n",
    "            \n",
    "            for i in range(len(uniques)):\n",
    "                centroids[i]= np.array(uniques[i])\n",
    "            \n",
    "            optimized= True\n",
    "            \n",
    "            for i in centroids:\n",
    "                if not np.array_equal(centroids[i], prev_centroids[i]):\n",
    "                    optimized= False\n",
    "                if not optimized:\n",
    "                    break\n",
    "            if optimized:\n",
    "                break\n",
    "        print(count)\n",
    "        self.centroids= centroids\n",
    "        self.classifications={}\n",
    "        \n",
    "        for i in range(len(self.centroids)):\n",
    "            self.classifications[i]=[]\n",
    "            \n",
    "        for featureset in data:\n",
    "            distances= [np.linalg.norm(featureset-self.centroids[centroid]) for centroid in self.centroids]\n",
    "            classification= distances.index(min(distances))\n",
    "            self.classifications[classification].append(featureset)\n",
    "        if len(self.centroids)== len(self.classifications):\n",
    "            print(len(self.classifications))\n",
    "        \n",
    "    def predic(self, data):\n",
    "        distances= [np.linalg.norm(data-self.centroids[centroid]) for centroid in self.centroids]\n",
    "        classification= distances.index(min(distances))\n",
    "        return classification\n",
    "    \n",
    "clf= Mean_Shift()\n",
    "\n",
    "clf.fit(X)\n",
    "\n",
    "centroids= clf.centroids\n",
    "#plt.scatter(X[:, 0], X[:, 1], s= 100)\n",
    "print(centroids[0][0])\n",
    "\n",
    "for classification in clf.classifications:\n",
    "    color= colors[classification]\n",
    "    for featureset in clf.classifications[classification]:\n",
    "        plt.scatter(featureset[0], featureset[1], c= color, marker='x', s=150)\n",
    "        \n",
    "for cx in centroids:\n",
    "    plt.scatter(centroids[cx][0], centroids[cx][1], c='k',  s=150)\n",
    "plt.show()"
   ]
  },
  {
   "cell_type": "code",
   "execution_count": null,
   "metadata": {},
   "outputs": [],
   "source": []
  },
  {
   "cell_type": "code",
   "execution_count": null,
   "metadata": {},
   "outputs": [],
   "source": []
  },
  {
   "cell_type": "code",
   "execution_count": null,
   "metadata": {},
   "outputs": [],
   "source": []
  }
 ],
 "metadata": {
  "kernelspec": {
   "display_name": "Python 3",
   "language": "python",
   "name": "python3"
  },
  "language_info": {
   "codemirror_mode": {
    "name": "ipython",
    "version": 3
   },
   "file_extension": ".py",
   "mimetype": "text/x-python",
   "name": "python",
   "nbconvert_exporter": "python",
   "pygments_lexer": "ipython3",
   "version": "3.6.6"
  }
 },
 "nbformat": 4,
 "nbformat_minor": 2
}
