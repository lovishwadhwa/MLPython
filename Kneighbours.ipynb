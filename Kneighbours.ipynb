{
 "cells": [
  {
   "cell_type": "code",
   "execution_count": 21,
   "metadata": {},
   "outputs": [],
   "source": [
    "import numpy as np\n",
    "import pandas as pd\n",
    "from sklearn import preprocessing, neighbors\n",
    "from sklearn.model_selection import train_test_split"
   ]
  },
  {
   "cell_type": "code",
   "execution_count": 22,
   "metadata": {},
   "outputs": [],
   "source": [
    "df= pd.read_csv('breast-cancer-wisconsin.txt')"
   ]
  },
  {
   "cell_type": "code",
   "execution_count": 23,
   "metadata": {},
   "outputs": [
    {
     "name": "stdout",
     "output_type": "stream",
     "text": [
      "          Id   Clump   Size   Shape   Adhesion   EpiSize  Nuclei   Chromatin  \\\n",
      "0    1000025       5      1       1          1         2       1           3   \n",
      "1    1002945       5      4       4          5         7      10           3   \n",
      "2    1015425       3      1       1          1         2       2           3   \n",
      "3    1016277       6      8       8          1         3       4           3   \n",
      "4    1017023       4      1       1          3         2       1           3   \n",
      "5    1017122       8     10      10          8         7      10           9   \n",
      "6    1018099       1      1       1          1         2      10           3   \n",
      "7    1018561       2      1       2          1         2       1           3   \n",
      "8    1033078       2      1       1          1         2       1           1   \n",
      "9    1033078       4      2       1          1         2       1           2   \n",
      "10   1035283       1      1       1          1         1       1           3   \n",
      "11   1036172       2      1       1          1         2       1           2   \n",
      "12   1041801       5      3       3          3         2       3           4   \n",
      "13   1043999       1      1       1          1         2       3           3   \n",
      "14   1044572       8      7       5         10         7       9           5   \n",
      "15   1047630       7      4       6          4         6       1           4   \n",
      "16   1048672       4      1       1          1         2       1           2   \n",
      "17   1049815       4      1       1          1         2       1           3   \n",
      "18   1050670      10      7       7          6         4      10           4   \n",
      "19   1050718       6      1       1          1         2       1           3   \n",
      "20   1054590       7      3       2         10         5      10           5   \n",
      "21   1054593      10      5       5          3         6       7           7   \n",
      "22   1056784       3      1       1          1         2       1           2   \n",
      "23   1057013       8      4       5          1         2       ?           7   \n",
      "24   1059552       1      1       1          1         2       1           3   \n",
      "25   1065726       5      2       3          4         2       7           3   \n",
      "26   1066373       3      2       1          1         1       1           2   \n",
      "27   1066979       5      1       1          1         2       1           2   \n",
      "28   1067444       2      1       1          1         2       1           2   \n",
      "29   1070935       1      1       3          1         2       1           1   \n",
      "..       ...     ...    ...     ...        ...       ...     ...         ...   \n",
      "669  1350423       5     10      10          8         5       5           7   \n",
      "670  1352848       3     10       7          8         5       8           7   \n",
      "671  1353092       3      2       1          2         2       1           3   \n",
      "672  1354840       2      1       1          1         2       1           3   \n",
      "673  1354840       5      3       2          1         3       1           1   \n",
      "674  1355260       1      1       1          1         2       1           2   \n",
      "675  1365075       4      1       4          1         2       1           1   \n",
      "676  1365328       1      1       2          1         2       1           2   \n",
      "677  1368267       5      1       1          1         2       1           1   \n",
      "678  1368273       1      1       1          1         2       1           1   \n",
      "679  1368882       2      1       1          1         2       1           1   \n",
      "680  1369821      10     10      10         10         5      10          10   \n",
      "681  1371026       5     10      10         10         4      10           5   \n",
      "682  1371920       5      1       1          1         2       1           3   \n",
      "683   466906       1      1       1          1         2       1           1   \n",
      "684   466906       1      1       1          1         2       1           1   \n",
      "685   534555       1      1       1          1         2       1           1   \n",
      "686   536708       1      1       1          1         2       1           1   \n",
      "687   566346       3      1       1          1         2       1           2   \n",
      "688   603148       4      1       1          1         2       1           1   \n",
      "689   654546       1      1       1          1         2       1           1   \n",
      "690   654546       1      1       1          3         2       1           1   \n",
      "691   695091       5     10      10          5         4       5           4   \n",
      "692   714039       3      1       1          1         2       1           1   \n",
      "693   763235       3      1       1          1         2       1           2   \n",
      "694   776715       3      1       1          1         3       2           1   \n",
      "695   841769       2      1       1          1         2       1           1   \n",
      "696   888820       5     10      10          3         7       3           8   \n",
      "697   897471       4      8       6          4         3       4          10   \n",
      "698   897471       4      8       8          5         4       5          10   \n",
      "\n",
      "      Nucleoli   Mitoses   Class  \n",
      "0            1         1       2  \n",
      "1            2         1       2  \n",
      "2            1         1       2  \n",
      "3            7         1       2  \n",
      "4            1         1       2  \n",
      "5            7         1       4  \n",
      "6            1         1       2  \n",
      "7            1         1       2  \n",
      "8            1         5       2  \n",
      "9            1         1       2  \n",
      "10           1         1       2  \n",
      "11           1         1       2  \n",
      "12           4         1       4  \n",
      "13           1         1       2  \n",
      "14           5         4       4  \n",
      "15           3         1       4  \n",
      "16           1         1       2  \n",
      "17           1         1       2  \n",
      "18           1         2       4  \n",
      "19           1         1       2  \n",
      "20           4         4       4  \n",
      "21          10         1       4  \n",
      "22           1         1       2  \n",
      "23           3         1       4  \n",
      "24           1         1       2  \n",
      "25           6         1       4  \n",
      "26           1         1       2  \n",
      "27           1         1       2  \n",
      "28           1         1       2  \n",
      "29           1         1       2  \n",
      "..         ...       ...     ...  \n",
      "669         10         1       4  \n",
      "670          4         1       4  \n",
      "671          1         1       2  \n",
      "672          1         1       2  \n",
      "673          1         1       2  \n",
      "674          1         1       2  \n",
      "675          1         1       2  \n",
      "676          1         1       2  \n",
      "677          1         1       2  \n",
      "678          1         1       2  \n",
      "679          1         1       2  \n",
      "680         10         7       4  \n",
      "681          6         3       4  \n",
      "682          2         1       2  \n",
      "683          1         1       2  \n",
      "684          1         1       2  \n",
      "685          1         1       2  \n",
      "686          1         1       2  \n",
      "687          3         1       2  \n",
      "688          1         1       2  \n",
      "689          1         8       2  \n",
      "690          1         1       2  \n",
      "691          4         1       4  \n",
      "692          1         1       2  \n",
      "693          1         2       2  \n",
      "694          1         1       2  \n",
      "695          1         1       2  \n",
      "696         10         2       4  \n",
      "697          6         1       4  \n",
      "698          4         1       4  \n",
      "\n",
      "[699 rows x 11 columns]\n"
     ]
    }
   ],
   "source": [
    "print(df)"
   ]
  },
  {
   "cell_type": "code",
   "execution_count": 24,
   "metadata": {},
   "outputs": [],
   "source": [
    "df.replace('?', -99999, inplace=True)\n",
    "df.drop(['Id'], 1, inplace=True)\n"
   ]
  },
  {
   "cell_type": "code",
   "execution_count": 27,
   "metadata": {},
   "outputs": [],
   "source": [
    "X= np.array(df.drop([' Class'], 1))\n",
    "Y= np.array(df[' Class'])"
   ]
  },
  {
   "cell_type": "code",
   "execution_count": 28,
   "metadata": {},
   "outputs": [],
   "source": [
    "Xtrain, Xtest, Ytrain, Ytest= train_test_split(X, Y, test_size=0.2)\n",
    "clf= neighbors.KNeighborsClassifier()"
   ]
  },
  {
   "cell_type": "code",
   "execution_count": 32,
   "metadata": {},
   "outputs": [],
   "source": [
    "clf.fit(Xtrain, Ytrain)\n",
    "import pickle\n",
    "with open('kneighbors.pickle', 'wb') as f:\n",
    "    pickle.dump(clf, f)\n",
    "\n",
    "pickle_in= open('kneighbors.pickle', 'rb')\n",
    "clf= pickle.load(pickle_in)"
   ]
  },
  {
   "cell_type": "code",
   "execution_count": 33,
   "metadata": {},
   "outputs": [
    {
     "name": "stdout",
     "output_type": "stream",
     "text": [
      "0.9785714285714285\n"
     ]
    }
   ],
   "source": [
    "accuracy= clf.score(Xtest, Ytest)\n",
    "\n",
    "print(accuracy)"
   ]
  },
  {
   "cell_type": "code",
   "execution_count": 42,
   "metadata": {},
   "outputs": [
    {
     "data": {
      "image/png": "[encoded data removed]",
      "text/plain": [
       "<Figure size 432x288 with 1 Axes>"
      ]
     },
     "metadata": {},
     "output_type": "display_data"
    },
    {
     "name": "stdout",
     "output_type": "stream",
     "text": [
      "x\n"
     ]
    }
   ],
   "source": [
    "import numpy as np\n",
    "from math import sqrt\n",
    "import matplotlib.pyplot as plt\n",
    "from collections import Counter\n",
    "import warnings\n",
    "import pandas as pd\n",
    "import random\n",
    "\n",
    "dataset={'k':[[1,2], [2,3], [3, 1]], 'x':[[6, 5], [7, 7], [8, 6]]}\n",
    "newfeatures=[5, 7]\n",
    "\n",
    "[[plt.scatter(j[0], j[1], s=100) for j in dataset[i]]for i in dataset]\n",
    "#dist=sqrt((plot1[0]-plot2[0])**2+(plot1[1]-plot2[1])**2)\n",
    "plt.scatter(newfeatures[0], newfeatures[1])\n",
    "plt.show()\n",
    "\n",
    "def k_nearest(data, predict, k=3):\n",
    "    if len(data) >= k:\n",
    "        warnings.warn('K is set as a wrong choice')\n",
    "    distances=[]\n",
    "    for group in data:\n",
    "        for features in data[group]:\n",
    "            dist=np.linalg.norm(np.array(features)-np.array(predict))\n",
    "            distances.append([dist, group])\n",
    "    \n",
    "    votes=[i[1] for i in sorted(distances)[:k]]\n",
    "    vote_result = Counter(votes).most_common(1)[0][0]\n",
    "    confidence= Counter(votes).most_common(1)[0][1]/k\n",
    "    \n",
    "    return vote_result, confidence\n",
    "\n",
    "result= k_nearest(dataset, newfeatures, k=3)\n",
    "print(result)"
   ]
  },
  {
   "cell_type": "code",
   "execution_count": 51,
   "metadata": {},
   "outputs": [],
   "source": [
    "df= pd.read_csv('breast-cancer-wisconsin.txt')\n",
    "df.replace('?', -99999, inplace=True)\n",
    "df.drop(['Id'], 1, inplace=True)\n",
    "fulldata= df.astype(float).values.tolist()\n",
    "random.shuffle(fulldata)\n",
    "\n",
    "test_size=0.2\n",
    "train_set= {2:[], 4:[]}\n",
    "test_set= {2:[], 4:[]}\n",
    "train_data=fulldata[:-int(test_size*len(fulldata))]\n",
    "test_data=fulldata[-int(test_size*len(fulldata)):]\n",
    "for i in train_data:\n",
    "    train_set[i[-1]].append(i[:-1])\n",
    "for i in test_data:\n",
    "    test_set[i[-1]].append(i[:-1])\n"
   ]
  },
  {
   "cell_type": "code",
   "execution_count": 63,
   "metadata": {},
   "outputs": [
    {
     "name": "stdout",
     "output_type": "stream",
     "text": [
      "Accuracy: 0.9640287769784173\n"
     ]
    }
   ],
   "source": [
    "correct=0\n",
    "total=0\n",
    "\n",
    "for group in test_set:\n",
    "    for data in test_set[group]:\n",
    "        vote= k_nearest(train_set, data, k=5)\n",
    "        if vote == group:\n",
    "            correct += 1\n",
    "        total+=1\n",
    "        \n",
    "print(\"Accuracy:\", correct/total)        \n"
   ]
  },
  {
   "cell_type": "code",
   "execution_count": null,
   "metadata": {},
   "outputs": [],
   "source": []
  },
  {
   "cell_type": "code",
   "execution_count": null,
   "metadata": {},
   "outputs": [],
   "source": []
  }
 ],
 "metadata": {
  "kernelspec": {
   "display_name": "Python 3",
   "language": "python",
   "name": "python3"
  },
  "language_info": {
   "codemirror_mode": {
    "name": "ipython",
    "version": 3
   },
   "file_extension": ".py",
   "mimetype": "text/x-python",
   "name": "python",
   "nbconvert_exporter": "python",
   "pygments_lexer": "ipython3",
   "version": "3.6.6"
  }
 },
 "nbformat": 4,
 "nbformat_minor": 2
}
