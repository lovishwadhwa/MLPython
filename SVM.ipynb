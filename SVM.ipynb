{
 "cells": [
  {
   "cell_type": "code",
   "execution_count": 3,
   "metadata": {},
   "outputs": [
    {
     "name": "stdout",
     "output_type": "stream",
     "text": [
      "HI:  0.9642857142857143\n"
     ]
    },
    {
     "name": "stderr",
     "output_type": "stream",
     "text": [
      "c:\\users\\lovish bml\\appdata\\local\\programs\\python\\python36\\lib\\site-packages\\sklearn\\svm\\base.py:196: FutureWarning: The default value of gamma will change from 'auto' to 'scale' in version 0.22 to account better for unscaled features. Set gamma explicitly to 'auto' or 'scale' to avoid this warning.\n",
      "  \"avoid this warning.\", FutureWarning)\n"
     ]
    }
   ],
   "source": [
    "import numpy as np\n",
    "import pandas as pd\n",
    "from sklearn import preprocessing, neighbors, svm\n",
    "from sklearn.model_selection import train_test_split\n",
    "\n",
    "df= pd.read_csv('breast-cancer-wisconsin.txt')\n",
    "df.replace('?', -99999, inplace=True)\n",
    "df.drop(['Id'], 1, inplace=True)\n",
    "\n",
    "X= np.array(df.drop([' Class'], 1))\n",
    "Y= np.array(df[' Class'])\n",
    "\n",
    "Xtrain, Xtest, Ytrain, Ytest= train_test_split(X, Y, test_size=0.2)\n",
    "clf= svm.SVC()\n",
    "\n",
    "clf.fit(Xtrain, Ytrain)\n",
    "import pickle\n",
    "with open('svm.pickle', 'wb') as f:\n",
    "    pickle.dump(clf, f)\n",
    "\n",
    "pickle_in= open('svm.pickle', 'rb')\n",
    "clf= pickle.load(pickle_in)\n",
    "\n",
    "accuracy= clf.score(Xtest, Ytest)\n",
    "\n",
    "print('HI: ',accuracy)"
   ]
  },
  {
   "cell_type": "code",
   "execution_count": 5,
   "metadata": {},
   "outputs": [
    {
     "name": "stdout",
     "output_type": "stream",
     "text": [
      "hi\n",
      "Hi\n",
      "Optimized a step.\n",
      "Optimized a step.\n",
      "Optimized a step.\n"
     ]
    },
    {
     "data": {
      "image/png": "[encoded data removed]",
      "text/plain": [
       "<Figure size 432x288 with 1 Axes>"
      ]
     },
     "metadata": {},
     "output_type": "display_data"
    }
   ],
   "source": [
    "import matplotlib.pyplot as plt\n",
    "import numpy as np\n",
    "import math\n",
    "\n",
    "class SupportVector:\n",
    "    def __init__(self, visualization=True):\n",
    "        self.visualization= visualization\n",
    "        self.colors={1:'r', -1:'b'}\n",
    "        if self.visualization:\n",
    "            self.fig= plt.figure()\n",
    "            self.ax= self.fig.add_subplot(1, 1, 1)\n",
    "    \n",
    "    def fit(self, data):\n",
    "        print('hi')\n",
    "        self.data= data\n",
    "        opt_dict={}\n",
    "        \n",
    "        transforms= [[1, 1], [-1, 1], [1, -1], [-1, -1]]\n",
    "        \n",
    "        all_data = []\n",
    "        for yi in self.data:\n",
    "            for featureset in self.data[yi]:\n",
    "                for feature in featureset:\n",
    "                    all_data.append(feature)\n",
    "                    \n",
    "        self.maxfeature=max(all_data)\n",
    "        self.minfeature=min(all_data)\n",
    "        print(\"Hi\")\n",
    "        step_sizes={self.maxfeature * 0.1, \n",
    "                   self.maxfeature * 0.01,\n",
    "                   self.maxfeature * 0.001}\n",
    "        \n",
    "        b_range_multiple = 5\n",
    "        b_multiple=5\n",
    "        \n",
    "        latest_optimum= self.maxfeature*10\n",
    "        \n",
    "        for step in step_sizes:\n",
    "            w= np.array([latest_optimum, latest_optimum])\n",
    "            optimized= False\n",
    "            \n",
    "            while not optimized:\n",
    "                for b in np.arange(-1*(self.maxfeature*b_range_multiple), self.maxfeature*b_range_multiple, step*b_multiple):\n",
    "                    for transformation in transforms:\n",
    "                        w_t= w*transformation\n",
    "                        found_option= True\n",
    "                        for i in self.data:\n",
    "                            for xi in self.data[i]:\n",
    "                                yi=i\n",
    "                                if not yi*(np.dot( w_t, xi) + b) >= 1:\n",
    "                                    #print('not here')\n",
    "                                    found_option= False\n",
    "                                    break\n",
    "                        if found_option:\n",
    "                            #print('here')\n",
    "                            opt_dict[np.linalg.norm(w_t)]=[w_t, b]\n",
    "                if w[0] < 0:\n",
    "                    optimized = True\n",
    "                    print('Optimized a step.')\n",
    "                else:\n",
    "                     w= w- step\n",
    "                \n",
    "            norms = sorted([n for n in opt_dict])\n",
    "            \n",
    "            newobject= opt_dict[norms[0]]\n",
    "        \n",
    "            self.w= newobject[0]\n",
    "            self.b= newobject[1]\n",
    "        \n",
    "            latest_optimum= newobject[0][0] * step *2 \n",
    "    \n",
    "    def predict(self, features):\n",
    "        classification= np.sign(np.dot(features, self.w) + b)\n",
    "        \n",
    "        if classification!=0 and self.visualization:\n",
    "            self.ax.scatter(features[0], features[1], s=200, marker='*', c= self.colors[classification])\n",
    "        return classification\n",
    "    \n",
    "    def visualize(self):\n",
    "        [[self.ax.scatter(x[0], x[1],s=100, color= self.colors[i]) for x in data_dict[i]] for i in data_dict]\n",
    "                          \n",
    "        def hyperplane(x, w, b, v):\n",
    "            return (-w[0]*x-b+v)/ w[1]\n",
    "        \n",
    "        datarange= [self.minfeature * 0.9, self.maxfeature * 0.9]\n",
    "        hyp_x_min= datarange[0]\n",
    "        hyp_x_max= datarange[1]\n",
    "        \n",
    "        pav1= hyperplane(hyp_x_min, self.w, self.b, 1)\n",
    "        pav2= hyperplane(hyp_x_max, self.w, self.b, 1)\n",
    "        self.ax.plot([hyp_x_min, hyp_x_max], [pav1, pav2])\n",
    "                          \n",
    "        nsv1= hyperplane(hyp_x_min, self.w, self.b, -1)\n",
    "        nsv2= hyperplane(hyp_x_max, self.w, self.b, -1)\n",
    "        self.ax.plot([hyp_x_min, hyp_x_max], [nsv1, nsv2])\n",
    "                          \n",
    "        db1= hyperplane(hyp_x_min, self.w, self.b, 0)\n",
    "        db2= hyperplane(hyp_x_max, self.w, self.b, 0)\n",
    "        self.ax.plot([hyp_x_min, hyp_x_max], [db1, db2])\n",
    "                          \n",
    "        \n",
    "\n",
    "data_dict= {-1: np.array([[1, 7], [2, 8], [3, 8]]), 1:np.array([[5, 1], [6, -1], [7, 3]])}\n",
    "svm= SupportVector()\n",
    "svm.fit(data= data_dict)\n",
    "svm.visualize()\n",
    "                          "
   ]
  },
  {
   "cell_type": "code",
   "execution_count": null,
   "metadata": {},
   "outputs": [],
   "source": []
  },
  {
   "cell_type": "code",
   "execution_count": null,
   "metadata": {},
   "outputs": [],
   "source": []
  }
 ],
 "metadata": {
  "kernelspec": {
   "display_name": "Python 3",
   "language": "python",
   "name": "python3"
  },
  "language_info": {
   "codemirror_mode": {
    "name": "ipython",
    "version": 3
   },
   "file_extension": ".py",
   "mimetype": "text/x-python",
   "name": "python",
   "nbconvert_exporter": "python",
   "pygments_lexer": "ipython3",
   "version": "3.6.6"
  }
 },
 "nbformat": 4,
 "nbformat_minor": 2
}
