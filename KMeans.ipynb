{
 "cells": [
  {
   "cell_type": "code",
   "execution_count": 1,
   "metadata": {},
   "outputs": [
    {
     "name": "stdout",
     "output_type": "stream",
     "text": [
      "   pclass  survived  sex      age  sibsp  parch  ticket      fare  cabin  \\\n",
      "0       1         1    1  29.0000      0      0     760  211.3375     78   \n",
      "1       1         1    0   0.9167      1      2     529  151.5500    159   \n",
      "2       1         0    1   2.0000      1      2     529  151.5500    159   \n",
      "3       1         0    0  30.0000      1      2     529  151.5500    159   \n",
      "4       1         0    1  25.0000      1      2     529  151.5500    159   \n",
      "\n",
      "   embarked  boat  home.dest  \n",
      "0         1     1        360  \n",
      "1         1    18        239  \n",
      "2         1     0        239  \n",
      "3         1     0        239  \n",
      "4         1     0        239  \n"
     ]
    }
   ],
   "source": [
    "import matplotlib.pyplot as plt\n",
    "import numpy as np\n",
    "from sklearn.cluster import KMeans\n",
    "import pandas as pd\n",
    "from sklearn import preprocessing\n",
    "\n",
    "df= pd.read_excel('titanic.xls')\n",
    "df.drop(['body', 'name'], 1, inplace= True)\n",
    "#for column in df.columns:\n",
    "#    pd.to_numeric(df[column])\n",
    "#print(df.head())\n",
    "\n",
    "def handle_non_numeric_data(df):\n",
    "    columns= df.columns.values\n",
    "    \n",
    "    for column in columns:\n",
    "        text_digit_vals={}\n",
    "        def convert_to_int(val):\n",
    "            return text_digit_vals[val]\n",
    "        \n",
    "        if df[column].dtype != np.int64 and df[column].dtype != np.float64:\n",
    "            column_content=df[column].values.tolist()\n",
    "            #print(column_content)\n",
    "            unique_elements= set(column_content)\n",
    "            #print(unique_elements)\n",
    "            x=0\n",
    "            for unique in unique_elements:\n",
    "                if unique not in text_digit_vals:\n",
    "                    text_digit_vals[unique] = x\n",
    "                    #print(unique)\n",
    "                    x+=1\n",
    "            df[column] = list(map(convert_to_int, df[column]))\n",
    "    return df\n",
    "\n",
    "df= handle_non_numeric_data(df)\n",
    "df.dropna(inplace=True)\n",
    "print(df.head())"
   ]
  },
  {
   "cell_type": "code",
   "execution_count": 2,
   "metadata": {},
   "outputs": [
    {
     "name": "stdout",
     "output_type": "stream",
     "text": [
      "0.6746411483253588\n"
     ]
    }
   ],
   "source": [
    "df.drop(['home.dest', 'embarked'], 1, inplace=True)\n",
    "X= np.array(df.drop(['survived'], 1).astype(float))\n",
    "X= preprocessing.scale(X)#preprocessing(X)\n",
    "Y= np.array(df['survived'])\n",
    "\n",
    "clf= KMeans(n_clusters=2)\n",
    "clf.fit(X)\n",
    "\n",
    "correct=0\n",
    "total=0\n",
    "\n",
    "for i in range(len(X)):\n",
    "    value= np.array(X[i].astype(float))\n",
    "    value= value.reshape(-1, len(value))\n",
    "    \n",
    "    valueresult= clf.predict(value)\n",
    "    #print(value)\n",
    "    #print(valueresult)\n",
    "    \n",
    "    if valueresult[0]== Y[i]:\n",
    "        correct+=1\n",
    "    total+=1\n",
    "    \n",
    "print(correct/total)"
   ]
  },
  {
   "cell_type": "code",
   "execution_count": 31,
   "metadata": {},
   "outputs": [
    {
     "data": {
      "image/png": "[encoded data removed]",
      "text/plain": [
       "<Figure size 432x288 with 1 Axes>"
      ]
     },
     "metadata": {},
     "output_type": "display_data"
    },
    {
     "name": "stdout",
     "output_type": "stream",
     "text": [
      "{0: array([1.16666667, 1.46666667]), 1: array([7.33333333, 9.        ])}\n"
     ]
    },
    {
     "data": {
      "image/png": "[encoded data removed]",
      "text/plain": [
       "<Figure size 432x288 with 1 Axes>"
      ]
     },
     "metadata": {},
     "output_type": "display_data"
    }
   ],
   "source": [
    "#FromScratch\n",
    "X = np.array([[1, 2], [1.5, 1.8], [5, 8], [8, 8], [1, 0.6], [9, 11]])\n",
    "\n",
    "plt.scatter(X[:, 0], X[:, 1], s= 100)\n",
    "plt.show()\n",
    "\n",
    "colors=['r', 'g' ]\n",
    "\n",
    "class K_Means:\n",
    "    def __init__(self, k=2, tol=0.001, max_iter=300):\n",
    "        self.k= k\n",
    "        self.tol= tol\n",
    "        self.max_iter= max_iter\n",
    "        \n",
    "    def fit(self, data):\n",
    "        self.centroids={}\n",
    "        x=0\n",
    "        for i in range(self.k):\n",
    "            self.centroids[i]= data[i]\n",
    "        \n",
    "        for i in range(self.max_iter):\n",
    "            self.classifications = {}\n",
    "            \n",
    "            for i in range(self.k):\n",
    "                self.classifications[i]=[]\n",
    "            \n",
    "            for featureset in data:\n",
    "                distances= [np.linalg.norm(featureset-self.centroids[centroid]) for centroid in self.centroids]\n",
    "                classification= distances.index(min(distances))\n",
    "                self.classifications[classification].append(featureset)\n",
    "            \n",
    "            prev_centroids= dict(self.centroids)\n",
    "\n",
    "            #print(self.classifications)\n",
    "            #rint(np.average(self.classifications[0]))\n",
    "            for classification in self.classifications:\n",
    "                self.centroids[classification]= np.average(self.classifications[classification], axis=0) \n",
    "            optimized= True\n",
    "            #print(self.centroids)\n",
    "                \n",
    "            for  c in self.centroids:\n",
    "                original_centroid= prev_centroids[c]\n",
    "                current_centroid= self.centroids[c]\n",
    "                if np.sum((current_centroid- original_centroid)/original_centroid*100) > self.tol:\n",
    "                    optimized= False\n",
    "            if optimized:\n",
    "                break\n",
    "    \n",
    "    def predict(self, data):\n",
    "        distances= [np.linalg.norm(data-self.centroids[centroid]) for centroid in self.centroids]\n",
    "        classification= distances.index(min(distances))\n",
    "        return classification\n",
    "    \n",
    "clf= K_Means()\n",
    "clf.fit(X)\n",
    "print(clf.centroids)\n",
    "for centroid in clf.centroids:\n",
    "    plt.scatter(clf.centroids[centroid][0], clf.centroids[centroid][1], marker='o', color='k', s=100)\n",
    "\n",
    "for classification in clf.classifications:\n",
    "    color= colors[classification]\n",
    "    for featureset in clf.classifications[classification]:\n",
    "        plt.scatter(featureset[0], featureset[1], marker='x', color= color, s= 100 )\n",
    "\n",
    "unknowns=  np.array([[1.6, 1.2], [10.5, 3.8], [4.5, 8.4], [8, 6], [4, 5.6], [1, 10]])\n",
    "for unknown in unknowns:\n",
    "    classification= clf.predict(unknown)\n",
    "    plt.scatter(unknown[0], unknown[1], color= colors[classification], marker= 'x')\n",
    "    \n",
    "plt.show()"
   ]
  },
  {
   "cell_type": "code",
   "execution_count": 33,
   "metadata": {},
   "outputs": [
    {
     "name": "stdout",
     "output_type": "stream",
     "text": [
      "0.6583732057416268\n"
     ]
    }
   ],
   "source": [
    "X= np.array(df.drop(['survived'], 1).astype(float))\n",
    "X= preprocessing.scale(X)#preprocessing(X)\n",
    "Y= np.array(df['survived'])\n",
    "\n",
    "clf= K_Means()\n",
    "clf.fit(X)\n",
    "\n",
    "correct=0\n",
    "total=0\n",
    "\n",
    "for i in range(len(X)):\n",
    "    value= np.array(X[i].astype(float))\n",
    "    value= value.reshape(-1, len(value))\n",
    "    \n",
    "    valueresult= clf.predict(value)\n",
    "    #print(value)\n",
    "    #print(valueresult)\n",
    "    \n",
    "    if valueresult== Y[i]:\n",
    "        correct+=1\n",
    "    total+=1\n",
    "    \n",
    "print(correct/total)"
   ]
  },
  {
   "cell_type": "code",
   "execution_count": null,
   "metadata": {},
   "outputs": [],
   "source": []
  }
 ],
 "metadata": {
  "kernelspec": {
   "display_name": "Python 3",
   "language": "python",
   "name": "python3"
  },
  "language_info": {
   "codemirror_mode": {
    "name": "ipython",
    "version": 3
   },
   "file_extension": ".py",
   "mimetype": "text/x-python",
   "name": "python",
   "nbconvert_exporter": "python",
   "pygments_lexer": "ipython3",
   "version": "3.6.6"
  }
 },
 "nbformat": 4,
 "nbformat_minor": 2
}
